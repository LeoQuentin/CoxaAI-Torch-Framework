{
 "cells": [
  {
   "cell_type": "code",
   "execution_count": 1,
   "metadata": {},
   "outputs": [
    {
     "name": "stderr",
     "output_type": "stream",
     "text": [
      "/Users/leoquentin/Documents/Programmering/.conda/lib/python3.11/site-packages/tqdm/auto.py:21: TqdmWarning: IProgress not found. Please update jupyter and ipywidgets. See https://ipywidgets.readthedocs.io/en/stable/user_install.html\n",
      "  from .autonotebook import tqdm as notebook_tqdm\n"
     ]
    }
   ],
   "source": [
    "from coxaaitorch.augmentation import random_augmentation, no_augmentation, autoaugment_policy_augmentation\n",
    "from coxaaitorch.utilities import H5FoldDataset\n",
    "import os\n",
    "import sys\n",
    "import dotenv\n",
    "\n",
    "dotenv.load_dotenv()\n",
    "\n",
    "data_path = os.getenv('DATA_PATH')\n",
    "\n",
    "dm = H5FoldDataset(\"/Users/leoquentin/Documents/Programmering/Forskning/vetData/hips_800_sort_5.h5\",\n",
    "\t\t\t\t\tfolds=[0],\n",
    "\t\t\t\t\t)\n"
   ]
  },
  {
   "cell_type": "code",
   "execution_count": 2,
   "metadata": {},
   "outputs": [
    {
     "name": "stdout",
     "output_type": "stream",
     "text": [
      "(800, 800, 1)\n"
     ]
    }
   ],
   "source": [
    "img1 = dm[0][0]\n",
    "print(img1.shape)\n",
    "img1 = random_augmentation(img1)"
   ]
  },
  {
   "cell_type": "code",
   "execution_count": null,
   "metadata": {},
   "outputs": [],
   "source": []
  }
 ],
 "metadata": {
  "kernelspec": {
   "display_name": "VET",
   "language": "python",
   "name": "python3"
  },
  "language_info": {
   "codemirror_mode": {
    "name": "ipython",
    "version": 3
   },
   "file_extension": ".py",
   "mimetype": "text/x-python",
   "name": "python",
   "nbconvert_exporter": "python",
   "pygments_lexer": "ipython3",
   "version": "3.11.7"
  }
 },
 "nbformat": 4,
 "nbformat_minor": 2
}
